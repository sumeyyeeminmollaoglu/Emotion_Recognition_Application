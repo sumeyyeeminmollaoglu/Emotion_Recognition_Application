{
 "cells": [
  {
   "cell_type": "code",
   "execution_count": 49,
   "metadata": {},
   "outputs": [],
   "source": [
    "#Author: Sümeyye Sena Eminmollaoğlu"
   ]
  },
  {
   "cell_type": "code",
   "execution_count": 34,
   "metadata": {},
   "outputs": [],
   "source": [
    "import pandas as pd\n",
    "import string\n",
    "import re\n",
    "import random"
   ]
  },
  {
   "cell_type": "code",
   "execution_count": 84,
   "metadata": {},
   "outputs": [],
   "source": [
    "df=open('data.txt',\"r\")\n",
    "emotion_df=pd.DataFrame(df)"
   ]
  },
  {
   "cell_type": "code",
   "execution_count": 168,
   "metadata": {},
   "outputs": [],
   "source": [
    "headers = {\"(2)\": \"__label__happy\",\n",
    " \"(3)\":\"__label__anger\",\n",
    " \"(5)\":\"__label__happy\",\n",
    " \"(1)\":\"__label__sad\"}"
   ]
  },
  {
   "cell_type": "code",
   "execution_count": 85,
   "metadata": {},
   "outputs": [],
   "source": [
    "index_list=[]\n",
    "for i in range(len(emotion_df[0])):\n",
    "    if emotion_df[0][i].split(\"\\t\")[0] not in [\"(1)\",\"(2)\",\"(3)\",\"(5)\"]:\n",
    "        index_list.append(i)      "
   ]
  },
  {
   "cell_type": "code",
   "execution_count": 86,
   "metadata": {},
   "outputs": [],
   "source": [
    "new_df=emotion_df.drop(emotion_df.index[index_list])"
   ]
  },
  {
   "cell_type": "code",
   "execution_count": 140,
   "metadata": {},
   "outputs": [],
   "source": [
    "for row in new_df.index:\n",
    "    row_list=new_df[0][row].split(\"\\t\")\n",
    "    row_list[0]=headers[row_list[0]]\n",
    "    row_list[1]=(row_list[1].translate(str.maketrans('', '', string.punctuation))).lower()\n",
    "    new_row=\" \".join(row_list)\n",
    "    new_df.loc[row,0]=new_row\n"
   ]
  },
  {
   "cell_type": "code",
   "execution_count": 159,
   "metadata": {},
   "outputs": [],
   "source": [
    "def deEmojify(inputString):\n",
    "    return inputString.encode('ascii', 'ignore').decode('ascii')"
   ]
  },
  {
   "cell_type": "code",
   "execution_count": 165,
   "metadata": {},
   "outputs": [],
   "source": [
    "emotion_data=open(\"emotion.txt\",\"a\")\n",
    "for row in new_df.index:\n",
    "    emotion_data.write(deEmojify(new_df[0][row]))\n",
    "emotion_data.close()"
   ]
  },
  {
   "cell_type": "code",
   "execution_count": 4,
   "metadata": {},
   "outputs": [],
   "source": [
    "data_tweet=pd.read_csv(\"tweet_data.csv\", names=[\"0\",\"1\",\"2\",\"3\",\"4\",\"5\"], encoding=\"latin-1\")\n",
    "data_tweet=data_tweet.drop(columns=[\"1\",\"2\",\"3\",\"4\"])\n",
    "binary_headers={0:\"__label__negative \",4:\"__label__positive \"}"
   ]
  },
  {
   "cell_type": "code",
   "execution_count": 35,
   "metadata": {},
   "outputs": [],
   "source": [
    "tweet_labels=[]\n",
    "for row in data_tweet.index:\n",
    "    tweet_labels.append([binary_headers[data_tweet[\"0\"][row]],data_tweet[\"5\"][row]])\n",
    "random.shuffle(tweet_labels)"
   ]
  },
  {
   "cell_type": "code",
   "execution_count": 36,
   "metadata": {
    "scrolled": true
   },
   "outputs": [],
   "source": [
    "for i in tweet_labels:\n",
    "    result = re.sub(r\"http\\S+\", \"\", i[1])\n",
    "    result=(result.translate(str.maketrans('', '', string.punctuation))).lower()\n",
    "    i[1]=result+\"\\n\""
   ]
  },
  {
   "cell_type": "code",
   "execution_count": 37,
   "metadata": {},
   "outputs": [],
   "source": [
    "binary_test=open(\"binary_test.txt\",\"r\")"
   ]
  },
  {
   "cell_type": "code",
   "execution_count": 38,
   "metadata": {},
   "outputs": [],
   "source": [
    "binary_data=open(\"binary_data.txt\",\"a\")"
   ]
  },
  {
   "cell_type": "code",
   "execution_count": 39,
   "metadata": {},
   "outputs": [],
   "source": [
    "for row in binary_test:\n",
    "    binary_data.write(row)"
   ]
  },
  {
   "cell_type": "code",
   "execution_count": 40,
   "metadata": {},
   "outputs": [],
   "source": [
    "for item in tweet_labels:\n",
    "    binary_data.write(item[0]+item[1])"
   ]
  },
  {
   "cell_type": "code",
   "execution_count": 41,
   "metadata": {},
   "outputs": [],
   "source": [
    "binary_data.close()"
   ]
  }
 ],
 "metadata": {
  "kernelspec": {
   "display_name": "Python 3",
   "language": "python",
   "name": "python3"
  }
 },
 "nbformat": 4,
 "nbformat_minor": 2
}
