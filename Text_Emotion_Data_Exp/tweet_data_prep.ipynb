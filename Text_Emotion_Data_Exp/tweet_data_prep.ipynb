{
 "cells": [
  {
   "cell_type": "code",
   "execution_count": 83,
   "metadata": {},
   "outputs": [],
   "source": [
    "import pandas as pd"
   ]
  },
  {
   "cell_type": "code",
   "execution_count": 84,
   "metadata": {},
   "outputs": [],
   "source": [
    "df=open('data.txt',\"r\")\n",
    "emotion_df=pd.DataFrame(df)"
   ]
  },
  {
   "cell_type": "code",
   "execution_count": 168,
   "metadata": {},
   "outputs": [],
   "source": [
    "headers = {\"(2)\": \"__label__happy\",\n",
    " \"(3)\":\"__label__anger\",\n",
    " \"(5)\":\"__label__happy\",\n",
    " \"(1)\":\"__label__sad\"}"
   ]
  },
  {
   "cell_type": "code",
   "execution_count": 85,
   "metadata": {},
   "outputs": [],
   "source": [
    "index_list=[]\n",
    "for i in range(len(emotion_df[0])):\n",
    "    if emotion_df[0][i].split(\"\\t\")[0] not in [\"(1)\",\"(2)\",\"(3)\",\"(5)\"]:\n",
    "        index_list.append(i)      "
   ]
  },
  {
   "cell_type": "code",
   "execution_count": 86,
   "metadata": {},
   "outputs": [],
   "source": [
    "new_df=emotion_df.drop(emotion_df.index[index_list])"
   ]
  },
  {
   "cell_type": "code",
   "execution_count": 140,
   "metadata": {},
   "outputs": [],
   "source": [
    "import string\n",
    "for row in new_df.index:\n",
    "    row_list=new_df[0][row].split(\"\\t\")\n",
    "    row_list[0]=headers[row_list[0]]\n",
    "    row_list[1]=(row_list[1].translate(str.maketrans('', '', string.punctuation))).lower()\n",
    "    new_row=\" \".join(row_list)\n",
    "    new_df.loc[row,0]=new_row\n"
   ]
  },
  {
   "cell_type": "code",
   "execution_count": 159,
   "metadata": {},
   "outputs": [],
   "source": [
    "def deEmojify(inputString):\n",
    "    return inputString.encode('ascii', 'ignore').decode('ascii')"
   ]
  },
  {
   "cell_type": "code",
   "execution_count": 165,
   "metadata": {},
   "outputs": [],
   "source": [
    "emotion_data=open(\"emotion.txt\",\"a\")\n",
    "for row in new_df.index:\n",
    "    emotion_data.write(deEmojify(new_df[0][row]))\n",
    "emotion_data.close()"
   ]
  },
  {
   "cell_type": "code",
   "execution_count": null,
   "metadata": {},
   "outputs": [],
   "source": []
  }
 ],
 "metadata": {
  "kernelspec": {
   "display_name": "Python 3",
   "language": "python",
   "name": "python3"
  },
  "language_info": {
   "codemirror_mode": {
    "name": "ipython",
    "version": 3
   },
   "file_extension": ".py",
   "mimetype": "text/x-python",
   "name": "python",
   "nbconvert_exporter": "python",
   "pygments_lexer": "ipython3",
   "version": "3.6.8"
  }
 },
 "nbformat": 4,
 "nbformat_minor": 2
}
