{
 "cells": [
  {
   "cell_type": "code",
   "execution_count": 1,
   "metadata": {},
   "outputs": [],
   "source": [
    "import pandas as pd\n",
    "import fasttext"
   ]
  },
  {
   "cell_type": "code",
   "execution_count": 2,
   "metadata": {},
   "outputs": [],
   "source": [
    "classifier_multilabel = fasttext.supervised('emotion_train.txt', 'multilabel_emotion', label_prefix='__label__', loss= \"hs\")\n",
    "result_multilabel = classifier_multilabel.test('emotion_test.txt')\n"
   ]
  },
  {
   "cell_type": "code",
   "execution_count": 3,
   "metadata": {},
   "outputs": [],
   "source": [
    "multilabel_restored = fasttext.load_model(\"multilabel_emotion.bin\", label_prefix='__label__')\n",
    "result_multilabel = multilabel_restored.test('emotion_test.txt')"
   ]
  },
  {
   "cell_type": "code",
   "execution_count": 4,
   "metadata": {},
   "outputs": [],
   "source": [
    "p = result_multilabel.precision\n",
    "r = result_multilabel.recall"
   ]
  },
  {
   "cell_type": "code",
   "execution_count": 5,
   "metadata": {},
   "outputs": [
    {
     "name": "stdout",
     "output_type": "stream",
     "text": [
      "P@1: 0.9338795095319561\n",
      "R@1: 0.9338795095319561\n",
      "F1-Score: 0.9338795095319561\n"
     ]
    }
   ],
   "source": [
    "F_measure = 2 * ((p * r) / (p + r))\n",
    "print ('P@1:', p)\n",
    "print ('R@1:', r)\n",
    "print (\"F1-Score:\", F_measure)"
   ]
  },
  {
   "cell_type": "code",
   "execution_count": 48,
   "metadata": {},
   "outputs": [
    {
     "name": "stdout",
     "output_type": "stream",
     "text": [
      "[('neutral', 0.751881), ('happy', 0.191406), ('sad', 0.0472641), ('anger', 0.00444026)]\n"
     ]
    }
   ],
   "source": [
    "#Custom testing.\n",
    "texts = [\"like\"]\n",
    "labels = multilabel_restored.predict_proba(texts, k=4)\n",
    "labels = labels[0]\n",
    "print (labels)"
   ]
  },
  {
   "cell_type": "code",
   "execution_count": 12,
   "metadata": {},
   "outputs": [],
   "source": [
    "classifier_binary = fasttext.supervised('binary_train.txt', 'binary_emotion', label_prefix='__label__')\n",
    "result_binary = classifier_binary.test('binary_test.txt')"
   ]
  },
  {
   "cell_type": "code",
   "execution_count": 13,
   "metadata": {},
   "outputs": [],
   "source": [
    "binary_restored = fasttext.load_model(\"binary_emotion.bin\", label_prefix='__label__')\n",
    "result_binary = binary_restored.test('binary_test.txt')"
   ]
  },
  {
   "cell_type": "code",
   "execution_count": 14,
   "metadata": {},
   "outputs": [],
   "source": [
    "pb = result_binary.precision\n",
    "rb = result_binary.recall"
   ]
  },
  {
   "cell_type": "code",
   "execution_count": 15,
   "metadata": {},
   "outputs": [
    {
     "name": "stdout",
     "output_type": "stream",
     "text": [
      "P@1: 0.8010978876641343\n",
      "R@1: 0.8010978876641343\n",
      "F1-Score: 0.8010978876641343\n"
     ]
    }
   ],
   "source": [
    "F_measure_b = 2 * ((pb * rb) / (pb + rb))\n",
    "print ('P@1:', pb)\n",
    "print ('R@1:', rb)\n",
    "print (\"F1-Score:\", F_measure_b)"
   ]
  },
  {
   "cell_type": "code",
   "execution_count": 52,
   "metadata": {},
   "outputs": [
    {
     "name": "stdout",
     "output_type": "stream",
     "text": [
      "[('negative', 0.798828), ('positive', 0.199219)]\n"
     ]
    }
   ],
   "source": [
    "#Custom testing.\n",
    "texts_b = [\"weather\"]\n",
    "labels_b = binary_restored.predict_proba(texts_b , k=2)\n",
    "labels_b = labels_b[0]\n",
    "print (labels_b)"
   ]
  },
  {
   "cell_type": "code",
   "execution_count": null,
   "metadata": {},
   "outputs": [],
   "source": []
  }
 ],
 "metadata": {
  "kernelspec": {
   "display_name": "Python 3",
   "language": "python",
   "name": "python3"
  },
  "language_info": {
   "codemirror_mode": {
    "name": "ipython",
    "version": 3
   },
   "file_extension": ".py",
   "mimetype": "text/x-python",
   "name": "python",
   "nbconvert_exporter": "python",
   "pygments_lexer": "ipython3",
   "version": "3.6.8"
  }
 },
 "nbformat": 4,
 "nbformat_minor": 2
}
